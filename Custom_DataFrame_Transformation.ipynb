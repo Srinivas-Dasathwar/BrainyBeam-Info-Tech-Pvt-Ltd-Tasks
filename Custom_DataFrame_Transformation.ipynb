{
  "nbformat": 4,
  "nbformat_minor": 0,
  "metadata": {
    "colab": {
      "provenance": []
    },
    "kernelspec": {
      "name": "python3",
      "display_name": "Python 3"
    },
    "language_info": {
      "name": "python"
    }
  },
  "cells": [
    {
      "cell_type": "code",
      "execution_count": null,
      "metadata": {
        "id": "H-tONoDovoL4"
      },
      "outputs": [],
      "source": [
        "import pandas as pd"
      ]
    },
    {
      "cell_type": "code",
      "source": [
        "data = {\n",
        "    \"Category\": [\"A\", \"A\", \"B\", \"B\", \"C\", \"C\"],\n",
        "    \"Values\": [10, 20, 15, 25, 30, 35]\n",
        "}\n",
        "df = pd.DataFrame(data)"
      ],
      "metadata": {
        "id": "2xFRmGT7vtBx"
      },
      "execution_count": null,
      "outputs": []
    },
    {
      "cell_type": "code",
      "source": [
        "def custom_transformation(group):\n",
        "    group[\"Normalized\"] = (group[\"Values\"] - group[\"Values\"].mean()) / group[\"Values\"].std()\n",
        "    return group"
      ],
      "metadata": {
        "id": "0rZ0S_9AvyVr"
      },
      "execution_count": null,
      "outputs": []
    },
    {
      "cell_type": "code",
      "source": [
        "transformed_df = df.groupby(\"Category\").apply(custom_transformation)\n",
        "print(transformed_df)"
      ],
      "metadata": {
        "colab": {
          "base_uri": "https://localhost:8080/"
        },
        "id": "rZQqby7HwCLS",
        "outputId": "95556167-38b3-4ac9-92d7-077a9561c6bd"
      },
      "execution_count": null,
      "outputs": [
        {
          "output_type": "stream",
          "name": "stdout",
          "text": [
            "           Category  Values  Normalized\n",
            "Category                               \n",
            "A        0        A      10   -0.707107\n",
            "         1        A      20    0.707107\n",
            "B        2        B      15   -0.707107\n",
            "         3        B      25    0.707107\n",
            "C        4        C      30   -0.707107\n",
            "         5        C      35    0.707107\n"
          ]
        },
        {
          "output_type": "stream",
          "name": "stderr",
          "text": [
            "<ipython-input-4-37eeb2aeb4ab>:1: DeprecationWarning: DataFrameGroupBy.apply operated on the grouping columns. This behavior is deprecated, and in a future version of pandas the grouping columns will be excluded from the operation. Either pass `include_groups=False` to exclude the groupings or explicitly select the grouping columns after groupby to silence this warning.\n",
            "  transformed_df = df.groupby(\"Category\").apply(custom_transformation)\n"
          ]
        }
      ]
    },
    {
      "cell_type": "code",
      "source": [],
      "metadata": {
        "id": "wQyeBMeEwIyU"
      },
      "execution_count": null,
      "outputs": []
    }
  ]
}