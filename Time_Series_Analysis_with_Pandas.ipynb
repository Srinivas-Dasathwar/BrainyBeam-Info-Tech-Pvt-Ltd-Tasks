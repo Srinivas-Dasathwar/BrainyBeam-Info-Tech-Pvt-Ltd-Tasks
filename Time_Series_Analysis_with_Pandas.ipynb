{
  "nbformat": 4,
  "nbformat_minor": 0,
  "metadata": {
    "colab": {
      "provenance": []
    },
    "kernelspec": {
      "name": "python3",
      "display_name": "Python 3"
    },
    "language_info": {
      "name": "python"
    }
  },
  "cells": [
    {
      "cell_type": "code",
      "source": [
        "pip install pandas numpy"
      ],
      "metadata": {
        "id": "mcInqaerKjxS",
        "colab": {
          "base_uri": "https://localhost:8080/"
        },
        "outputId": "143d2581-d3c5-4b47-8866-78330951ae4b"
      },
      "execution_count": 1,
      "outputs": [
        {
          "output_type": "stream",
          "name": "stdout",
          "text": [
            "Requirement already satisfied: pandas in /usr/local/lib/python3.10/dist-packages (2.2.2)\n",
            "Requirement already satisfied: numpy in /usr/local/lib/python3.10/dist-packages (1.26.4)\n",
            "Requirement already satisfied: python-dateutil>=2.8.2 in /usr/local/lib/python3.10/dist-packages (from pandas) (2.8.2)\n",
            "Requirement already satisfied: pytz>=2020.1 in /usr/local/lib/python3.10/dist-packages (from pandas) (2024.2)\n",
            "Requirement already satisfied: tzdata>=2022.7 in /usr/local/lib/python3.10/dist-packages (from pandas) (2024.2)\n",
            "Requirement already satisfied: six>=1.5 in /usr/local/lib/python3.10/dist-packages (from python-dateutil>=2.8.2->pandas) (1.16.0)\n"
          ]
        }
      ]
    },
    {
      "cell_type": "code",
      "source": [
        "import pandas as pd\n",
        "import numpy as np\n",
        "\n",
        "date_rng = pd.date_range(start='2022-01-01', end='2022-12-31', freq='D')\n",
        "df = pd.DataFrame(date_rng, columns=['date'])\n",
        "df['data'] = np.random.randint(0,100,size=(len(date_rng)))\n",
        "\n",
        "df.set_index('date', inplace=True)\n",
        "\n",
        "monthly_data = df.resample('M').mean()\n",
        "print(monthly_data)\n"
      ],
      "metadata": {
        "colab": {
          "base_uri": "https://localhost:8080/"
        },
        "id": "APjNDVGB0fNh",
        "outputId": "a730aae7-1481-4e51-a9c3-f954c45b69a2"
      },
      "execution_count": 2,
      "outputs": [
        {
          "output_type": "stream",
          "name": "stdout",
          "text": [
            "                 data\n",
            "date                 \n",
            "2022-01-31  57.548387\n",
            "2022-02-28  47.035714\n",
            "2022-03-31  47.774194\n",
            "2022-04-30  47.500000\n",
            "2022-05-31  61.193548\n",
            "2022-06-30  58.066667\n",
            "2022-07-31  47.709677\n",
            "2022-08-31  44.032258\n",
            "2022-09-30  50.066667\n",
            "2022-10-31  45.677419\n",
            "2022-11-30  49.266667\n",
            "2022-12-31  47.838710\n"
          ]
        },
        {
          "output_type": "stream",
          "name": "stderr",
          "text": [
            "<ipython-input-2-4cb4d0f59b38>:13: FutureWarning: 'M' is deprecated and will be removed in a future version, please use 'ME' instead.\n",
            "  monthly_data = df.resample('M').mean()\n"
          ]
        }
      ]
    },
    {
      "cell_type": "code",
      "source": [
        "df['rolling_mean'] = df['data'].rolling(window=7).mean()\n",
        "print(df.head(15))"
      ],
      "metadata": {
        "colab": {
          "base_uri": "https://localhost:8080/"
        },
        "id": "UJBvCoCE0l-q",
        "outputId": "fc3c5a7b-7fdd-49f5-b35b-fc69c0aee21a"
      },
      "execution_count": 3,
      "outputs": [
        {
          "output_type": "stream",
          "name": "stdout",
          "text": [
            "            data  rolling_mean\n",
            "date                          \n",
            "2022-01-01    70           NaN\n",
            "2022-01-02    26           NaN\n",
            "2022-01-03     2           NaN\n",
            "2022-01-04    76           NaN\n",
            "2022-01-05    25           NaN\n",
            "2022-01-06    57           NaN\n",
            "2022-01-07    88     49.142857\n",
            "2022-01-08    89     51.857143\n",
            "2022-01-09    86     60.428571\n",
            "2022-01-10     3     60.571429\n",
            "2022-01-11    18     52.285714\n",
            "2022-01-12    96     62.428571\n",
            "2022-01-13    87     66.714286\n",
            "2022-01-14    45     60.571429\n",
            "2022-01-15    75     58.571429\n"
          ]
        }
      ]
    },
    {
      "cell_type": "code",
      "source": [
        "df['lagged_data'] = df['data'].shift(1)\n",
        "print(df.head(15))"
      ],
      "metadata": {
        "colab": {
          "base_uri": "https://localhost:8080/"
        },
        "id": "lf2q8Ttz0pf9",
        "outputId": "ce2d9af4-714b-4f44-fbaa-4f4bfecb891f"
      },
      "execution_count": 4,
      "outputs": [
        {
          "output_type": "stream",
          "name": "stdout",
          "text": [
            "            data  rolling_mean  lagged_data\n",
            "date                                       \n",
            "2022-01-01    70           NaN          NaN\n",
            "2022-01-02    26           NaN         70.0\n",
            "2022-01-03     2           NaN         26.0\n",
            "2022-01-04    76           NaN          2.0\n",
            "2022-01-05    25           NaN         76.0\n",
            "2022-01-06    57           NaN         25.0\n",
            "2022-01-07    88     49.142857         57.0\n",
            "2022-01-08    89     51.857143         88.0\n",
            "2022-01-09    86     60.428571         89.0\n",
            "2022-01-10     3     60.571429         86.0\n",
            "2022-01-11    18     52.285714          3.0\n",
            "2022-01-12    96     62.428571         18.0\n",
            "2022-01-13    87     66.714286         96.0\n",
            "2022-01-14    45     60.571429         87.0\n",
            "2022-01-15    75     58.571429         45.0\n"
          ]
        }
      ]
    },
    {
      "cell_type": "code",
      "source": [],
      "metadata": {
        "id": "yu_z6LIZ0uXN"
      },
      "execution_count": null,
      "outputs": []
    }
  ]
}