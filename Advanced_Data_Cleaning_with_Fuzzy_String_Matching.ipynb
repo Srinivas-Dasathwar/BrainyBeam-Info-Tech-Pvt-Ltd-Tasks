{
  "nbformat": 4,
  "nbformat_minor": 0,
  "metadata": {
    "colab": {
      "provenance": []
    },
    "kernelspec": {
      "name": "python3",
      "display_name": "Python 3"
    },
    "language_info": {
      "name": "python"
    }
  },
  "cells": [
    {
      "cell_type": "code",
      "execution_count": null,
      "metadata": {
        "colab": {
          "base_uri": "https://localhost:8080/"
        },
        "id": "wo2Hz879F8OU",
        "outputId": "df66e525-04c7-4ee2-e2bf-e4dd9072d7b0"
      },
      "outputs": [
        {
          "output_type": "stream",
          "name": "stdout",
          "text": [
            "Requirement already satisfied: fuzzywuzzy in /usr/local/lib/python3.10/dist-packages (0.18.0)\n"
          ]
        }
      ],
      "source": [
        "pip install fuzzywuzzy"
      ]
    },
    {
      "cell_type": "code",
      "source": [
        "pip install pandas fuzzywuzzy\n"
      ],
      "metadata": {
        "colab": {
          "base_uri": "https://localhost:8080/"
        },
        "id": "vlkrfYG6GmCp",
        "outputId": "8c4a2d30-94d5-4db4-c56a-4a1eb5a5f7af"
      },
      "execution_count": null,
      "outputs": [
        {
          "output_type": "stream",
          "name": "stdout",
          "text": [
            "Requirement already satisfied: pandas in /usr/local/lib/python3.10/dist-packages (2.2.2)\n",
            "Requirement already satisfied: fuzzywuzzy in /usr/local/lib/python3.10/dist-packages (0.18.0)\n",
            "Requirement already satisfied: numpy>=1.22.4 in /usr/local/lib/python3.10/dist-packages (from pandas) (1.26.4)\n",
            "Requirement already satisfied: python-dateutil>=2.8.2 in /usr/local/lib/python3.10/dist-packages (from pandas) (2.8.2)\n",
            "Requirement already satisfied: pytz>=2020.1 in /usr/local/lib/python3.10/dist-packages (from pandas) (2024.2)\n",
            "Requirement already satisfied: tzdata>=2022.7 in /usr/local/lib/python3.10/dist-packages (from pandas) (2024.2)\n",
            "Requirement already satisfied: six>=1.5 in /usr/local/lib/python3.10/dist-packages (from python-dateutil>=2.8.2->pandas) (1.16.0)\n"
          ]
        }
      ]
    },
    {
      "cell_type": "code",
      "source": [
        "import pandas as pd\n",
        "from fuzzywuzzy import fuzz, process\n",
        "\n",
        "# Load the CSV file\n",
        "df = pd.read_csv('tested.csv')\n",
        "print(df.head())\n"
      ],
      "metadata": {
        "colab": {
          "base_uri": "https://localhost:8080/"
        },
        "id": "9cGRlSn4In94",
        "outputId": "7da6c665-60c2-48de-aec6-af9af272d2d1"
      },
      "execution_count": null,
      "outputs": [
        {
          "output_type": "stream",
          "name": "stdout",
          "text": [
            "   PassengerId  Survived  Pclass  \\\n",
            "0          892         0       3   \n",
            "1          893         1       3   \n",
            "2          894         0       2   \n",
            "3          895         0       3   \n",
            "4          896         1       3   \n",
            "\n",
            "                                           Name     Sex   Age  SibSp  Parch  \\\n",
            "0                              Kelly, Mr. James    male  34.5      0      0   \n",
            "1              Wilkes, Mrs. James (Ellen Needs)  female  47.0      1      0   \n",
            "2                     Myles, Mr. Thomas Francis    male  62.0      0      0   \n",
            "3                              Wirz, Mr. Albert    male  27.0      0      0   \n",
            "4  Hirvonen, Mrs. Alexander (Helga E Lindqvist)  female  22.0      1      1   \n",
            "\n",
            "    Ticket     Fare Cabin Embarked  \n",
            "0   330911   7.8292   NaN        Q  \n",
            "1   363272   7.0000   NaN        S  \n",
            "2   240276   9.6875   NaN        Q  \n",
            "3   315154   8.6625   NaN        S  \n",
            "4  3101298  12.2875   NaN        S  \n"
          ]
        }
      ]
    },
    {
      "cell_type": "code",
      "source": [
        "def find_similar_names(column, threshold=85):\n",
        "    matched_pairs = []\n",
        "    for i, name in enumerate(column):\n",
        "        for j, other_name in enumerate(column):\n",
        "            if i < j and fuzz.ratio(name, other_name) > threshold:\n",
        "                matched_pairs.append((name, other_name))\n",
        "    return matched_pairs\n",
        "\n",
        "# Example for 'Name' column\n",
        "duplicates = find_similar_names(df['Name'])\n",
        "print(duplicates)\n"
      ],
      "metadata": {
        "colab": {
          "base_uri": "https://localhost:8080/"
        },
        "id": "WtZYWjnQItsF",
        "outputId": "add50f1e-fe10-4cf7-e6d8-7dc40b6e6688"
      },
      "execution_count": null,
      "outputs": [
        {
          "output_type": "stream",
          "name": "stdout",
          "text": [
            "[]\n"
          ]
        }
      ]
    },
    {
      "cell_type": "code",
      "source": [
        "def replace_duplicates(df, column, threshold=85):\n",
        "    names = df[column].tolist()\n",
        "    replacements = {}\n",
        "    for i, name in enumerate(names):\n",
        "        for j, other_name in enumerate(names):\n",
        "            if i < j and fuzz.ratio(name, other_name) > threshold:\n",
        "                replacements[other_name] = name\n",
        "    df[column] = df[column].replace(replacements)\n",
        "    return df\n",
        "\n",
        "cleaned_df = replace_duplicates(df, 'Name')\n",
        "print(cleaned_df)\n"
      ],
      "metadata": {
        "colab": {
          "base_uri": "https://localhost:8080/"
        },
        "id": "AmlDPp0UIw7R",
        "outputId": "960c031d-e975-46d4-e92d-2d6c12daf1b5"
      },
      "execution_count": null,
      "outputs": [
        {
          "output_type": "stream",
          "name": "stdout",
          "text": [
            "     PassengerId  Survived  Pclass  \\\n",
            "0            892         0       3   \n",
            "1            893         1       3   \n",
            "2            894         0       2   \n",
            "3            895         0       3   \n",
            "4            896         1       3   \n",
            "..           ...       ...     ...   \n",
            "413         1305         0       3   \n",
            "414         1306         1       1   \n",
            "415         1307         0       3   \n",
            "416         1308         0       3   \n",
            "417         1309         0       3   \n",
            "\n",
            "                                             Name     Sex   Age  SibSp  Parch  \\\n",
            "0                                Kelly, Mr. James    male  34.5      0      0   \n",
            "1                Wilkes, Mrs. James (Ellen Needs)  female  47.0      1      0   \n",
            "2                       Myles, Mr. Thomas Francis    male  62.0      0      0   \n",
            "3                                Wirz, Mr. Albert    male  27.0      0      0   \n",
            "4    Hirvonen, Mrs. Alexander (Helga E Lindqvist)  female  22.0      1      1   \n",
            "..                                            ...     ...   ...    ...    ...   \n",
            "413                            Spector, Mr. Woolf    male   NaN      0      0   \n",
            "414                  Oliva y Ocana, Dona. Fermina  female  39.0      0      0   \n",
            "415                  Saether, Mr. Simon Sivertsen    male  38.5      0      0   \n",
            "416                           Ware, Mr. Frederick    male   NaN      0      0   \n",
            "417                      Peter, Master. Michael J    male   NaN      1      1   \n",
            "\n",
            "                 Ticket      Fare Cabin Embarked  \n",
            "0                330911    7.8292   NaN        Q  \n",
            "1                363272    7.0000   NaN        S  \n",
            "2                240276    9.6875   NaN        Q  \n",
            "3                315154    8.6625   NaN        S  \n",
            "4               3101298   12.2875   NaN        S  \n",
            "..                  ...       ...   ...      ...  \n",
            "413           A.5. 3236    8.0500   NaN        S  \n",
            "414            PC 17758  108.9000  C105        C  \n",
            "415  SOTON/O.Q. 3101262    7.2500   NaN        S  \n",
            "416              359309    8.0500   NaN        S  \n",
            "417                2668   22.3583   NaN        C  \n",
            "\n",
            "[418 rows x 12 columns]\n"
          ]
        }
      ]
    },
    {
      "cell_type": "code",
      "source": [
        "cleaned_df.to_csv('cleaned_dataset.csv', index=False)\n"
      ],
      "metadata": {
        "id": "rtvya7JgI12p"
      },
      "execution_count": null,
      "outputs": []
    },
    {
      "cell_type": "code",
      "source": [],
      "metadata": {
        "id": "jmlgDsF3I65z"
      },
      "execution_count": null,
      "outputs": []
    }
  ]
}